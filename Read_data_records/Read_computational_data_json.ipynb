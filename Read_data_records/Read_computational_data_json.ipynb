{
 "cells": [
  {
   "cell_type": "code",
   "execution_count": null,
   "id": "a45ab427",
   "metadata": {},
   "outputs": [],
   "source": [
    "import os\n",
    "import gzip\n",
    "import json\n",
    "from pymatgen.io.lobster import Lobsterout\n",
    "from pymatgen.core import Structure\n",
    "from pymatgen.electronic_structure.cohp import CompleteCohp\n",
    "from pymatgen.electronic_structure.dos import LobsterCompleteDos\n",
    "from atomate2.lobster.schemas import LobsterTaskDocument"
   ]
  },
  {
   "cell_type": "code",
   "execution_count": null,
   "id": "bfe2ba54",
   "metadata": {},
   "outputs": [],
   "source": [
    "def read_lobstertask_doc_json(filename: str,pymatgen_objs: bool=False):\n",
    "    \"\"\"\n",
    "    This function loads the json.gz files and returns a dictionary with all the lobster outputs.\n",
    "    \n",
    "    Args:\n",
    "        filename (str) : name of file\n",
    "        pymatgen_objs (bool) : if True will convert structure,coop,cobi,cohp and dos to pymatgen objects\n",
    "    Returns:\n",
    "        Returns a dictionary with lobster calculation outputs.\n",
    "    \"\"\"\n",
    "    with gzip.open(filename, 'rb') as f:\n",
    "        data = json.loads(f.read().decode('utf-8'))\n",
    "    \n",
    "    lobster_data = {}\n",
    "    for item in data:\n",
    "        lobster_data.update(item)\n",
    "        \n",
    "    if pymatgen_objs:\n",
    "        lobster_data['structure'] = Structure.from_dict(lobster_data['structure'])\n",
    "        lobster_data['cohp_data'] = CompleteCohp.from_dict(lobster_data['coop_data'])\n",
    "        lobster_data['cobi_data'] = CompleteCohp.from_dict(lobster_data['cobi_data'])\n",
    "        lobster_data['coop_data'] = CompleteCohp.from_dict(lobster_data['coop_data'])\n",
    "        lobster_data['dos'] = LobsterCompleteDos.from_dict(lobster_data['dos'])\n",
    "        lobster_data['lso_dos'] = LobsterCompleteDos.from_dict(lobster_data['lso_dos'])\n",
    "        \n",
    "        for field in ['lobsterpy_data','lobsterpy_data_cation_anion']:\n",
    "            for plotlabel, cohp in lobster_data[field][\"cohp_plot_data\"].items():\n",
    "                lobster_data[field][\"cohp_plot_data\"][plotlabel]= Cohp.from_dict(cohp)\n",
    "            \n",
    "        return lobster_data\n",
    "    else:\n",
    "        return lobster_data"
   ]
  },
  {
   "cell_type": "code",
   "execution_count": null,
   "id": "9020e907",
   "metadata": {},
   "outputs": [],
   "source": [
    "lobtask= read_lobstertask_doc_json(filename='../Example_data/Computational_data_jsons/mp-1000.json.gz', pymatgen_objs=True)"
   ]
  }
 ],
 "metadata": {
  "hide_input": false,
  "kernelspec": {
   "display_name": "Python 3 (ipykernel)",
   "language": "python",
   "name": "python3"
  },
  "language_info": {
   "codemirror_mode": {
    "name": "ipython",
    "version": 3
   },
   "file_extension": ".py",
   "mimetype": "text/x-python",
   "name": "python",
   "nbconvert_exporter": "python",
   "pygments_lexer": "ipython3",
   "version": "3.10.4"
  }
 },
 "nbformat": 4,
 "nbformat_minor": 5
}

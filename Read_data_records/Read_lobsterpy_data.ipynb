{
 "cells": [
  {
   "cell_type": "code",
   "execution_count": null,
   "id": "c39e15de",
   "metadata": {},
   "outputs": [],
   "source": [
    "import gzip\n",
    "import json"
   ]
  },
  {
   "cell_type": "code",
   "execution_count": null,
   "id": "486b09ec",
   "metadata": {},
   "outputs": [],
   "source": [
    "def read_lobsterpy_data_json(filename: str):\n",
    "    \"\"\"\n",
    "    This function loads the json.gz files and returns a dictionary with lobsterpy summmarized bonding analysis.\n",
    "    \n",
    "    Args:\n",
    "        filename (str) : name of file\n",
    "    Returns:\n",
    "        Returns a dictionary with lobstepy summmarized bonding analysis output.\n",
    "    \"\"\"\n",
    "    with gzip.open(filename, 'r') as f:\n",
    "        data = json.loads(f.read().decode('utf-8'))\n",
    "   \n",
    "    return data"
   ]
  },
  {
   "cell_type": "code",
   "execution_count": null,
   "id": "91f0b781",
   "metadata": {},
   "outputs": [],
   "source": [
    "lobsterpy_summary = read_lobsterpy_data_json(filename='Lobsterpy_json/mp-1000.json.gz')"
   ]
  },
  {
   "cell_type": "code",
   "execution_count": null,
   "id": "c98f0ee2",
   "metadata": {},
   "outputs": [],
   "source": [
    "lobsterpy_summary"
   ]
  }
 ],
 "metadata": {
  "hide_input": false,
  "kernelspec": {
   "display_name": "Python 3 (ipykernel)",
   "language": "python",
   "name": "python3"
  },
  "language_info": {
   "codemirror_mode": {
    "name": "ipython",
    "version": 3
   },
   "file_extension": ".py",
   "mimetype": "text/x-python",
   "name": "python",
   "nbconvert_exporter": "python",
   "pygments_lexer": "ipython3",
   "version": "3.10.9"
  }
 },
 "nbformat": 4,
 "nbformat_minor": 5
}

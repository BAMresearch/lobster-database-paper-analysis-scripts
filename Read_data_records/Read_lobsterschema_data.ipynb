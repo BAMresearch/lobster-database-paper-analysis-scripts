{
 "cells": [
  {
   "cell_type": "code",
   "execution_count": 1,
   "id": "a45ab427",
   "metadata": {},
   "outputs": [],
   "source": [
    "import os\n",
    "import gzip\n",
    "import json\n",
    "from pymatgen.io.lobster import Lobsterout\n",
    "from pymatgen.core import Structure\n",
    "from pymatgen.electronic_structure.cohp import CompleteCohp\n",
    "from pymatgen.electronic_structure.dos import LobsterCompleteDos\n",
    "from atomate2.lobster.schemas import LobsterTaskDocument"
   ]
  },
  {
   "cell_type": "code",
   "execution_count": 2,
   "id": "bfe2ba54",
   "metadata": {},
   "outputs": [],
   "source": [
    "def read_lobstertask_doc_json(filename: str,pymatgen_objs: bool=False):\n",
    "    \"\"\"\n",
    "    This function loads the json.gz files and returns a dictionary with all the lobster outputs.\n",
    "    \n",
    "    Args:\n",
    "        filename (str) : name of file\n",
    "        pymatgen_objs (bool) : if True will convert structure,coop,cobi,cohp and dos to pymatgen objects\n",
    "    Returns:\n",
    "        Returns a dictionary with lobster calculation outputs.\n",
    "    \"\"\"\n",
    "    with gzip.open(filename, 'r') as f:\n",
    "        data = json.loads(f.read().decode('utf-8'))\n",
    "    if pymatgen_objs:\n",
    "        data['structure'] = Structure.from_dict(data['structure'])\n",
    "        data['cohp_data'] = CompleteCohp.from_dict(data['coop_data'])\n",
    "        data['cobi_data'] = CompleteCohp.from_dict(data['cobi_data'])\n",
    "        data['coop_data'] = CompleteCohp.from_dict(data['coop_data'])\n",
    "        data['dos'] = LobsterCompleteDos.from_dict(data['dos'])\n",
    "        data['lso_dos'] = LobsterCompleteDos.from_dict(data['lso_dos'])\n",
    "        return data\n",
    "    else:\n",
    "        return data"
   ]
  },
  {
   "cell_type": "code",
   "execution_count": 16,
   "id": "9020e907",
   "metadata": {},
   "outputs": [],
   "source": [
    "lobtask= read_lobstertask_doc_json(filename='Json_data/mp-1000.json.gz', pymatgen_objs=True)"
   ]
  },
  {
   "cell_type": "code",
   "execution_count": 17,
   "id": "9e21fbb9",
   "metadata": {},
   "outputs": [
    {
     "name": "stdout",
     "output_type": "stream",
     "text": [
      "Full Formula (Ba1 Te1)\n",
      "Reduced Formula: BaTe\n",
      "abc   :   5.013216   5.013216   5.013216\n",
      "angles:  60.000000  60.000000  60.000000\n",
      "pbc   :       True       True       True\n",
      "Sites (2)\n",
      "  #  SP      a    b    c\n",
      "---  ----  ---  ---  ---\n",
      "  0  Ba    0    0    0\n",
      "  1  Te    0.5  0.5  0.5\n"
     ]
    }
   ],
   "source": [
    "print(lobtask['structure'])"
   ]
  },
  {
   "cell_type": "code",
   "execution_count": null,
   "id": "d6d4f1e0",
   "metadata": {},
   "outputs": [],
   "source": []
  }
 ],
 "metadata": {
  "hide_input": false,
  "kernelspec": {
   "display_name": "Python 3 (ipykernel)",
   "language": "python",
   "name": "python3"
  },
  "language_info": {
   "codemirror_mode": {
    "name": "ipython",
    "version": 3
   },
   "file_extension": ".py",
   "mimetype": "text/x-python",
   "name": "python",
   "nbconvert_exporter": "python",
   "pygments_lexer": "ipython3",
   "version": "3.10.9"
  }
 },
 "nbformat": 4,
 "nbformat_minor": 5
}

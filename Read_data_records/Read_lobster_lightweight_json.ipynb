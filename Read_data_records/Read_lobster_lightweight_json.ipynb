{
 "cells": [
  {
   "cell_type": "code",
   "execution_count": 1,
   "id": "c39e15de",
   "metadata": {},
   "outputs": [],
   "source": [
    "import gzip\n",
    "import json\n",
    "from pymatgen.electronic_structure.cohp import Cohp\n",
    "from pymatgen.electronic_structure.plotter import CohpPlotter"
   ]
  },
  {
   "cell_type": "markdown",
   "id": "f5751fc5",
   "metadata": {},
   "source": [
    "<h2><center>Top level keys to access data from LOBSTER lightweight JSON files</center></h2>\n",
    "<table>\n",
    "    <thead>\n",
    "    <tr>\n",
    "        <th>Root Keys</th>\n",
    "        <th>Data type</th>\n",
    "        <th>Description</th>\n",
    "    </tr>\n",
    "    </thead>\n",
    "    <tbody>\n",
    "    <tr>\n",
    "        <td>all_bonds</td>\n",
    "        <td>dict</td>\n",
    "        <td>Summarized relevant bonds data (See table 2 of the manuscript for details)</td>\n",
    "    </tr>\n",
    "    <tr>\n",
    "        <td>cation_anion_bonds</td>\n",
    "        <td>dict</td>\n",
    "        <td>Summarized relevant cation-anion bonds data (See table 2 of the manuscript forfor details)</td>\n",
    "    </tr>\n",
    "    <tr>\n",
    "        <td>madelung_energies</td>\n",
    "        <td>dict</td>\n",
    "        <td>Total electrostatic energy for the structure as calculated from the Mulliken and Löwdin charges</td>\n",
    "    </tr>\n",
    "    <tr>\n",
    "        <td>charges</td>\n",
    "        <td>dict</td>\n",
    "        <td>Atomic charges with Mulliken and Löwdin population analysis methods as keys. <br>\n",
    "            Each keys corresponding list follows the order of sites in the crystal structure.</td>\n",
    "    </tr>\n",
    "    </tbody>\n",
    "</table>"
   ]
  },
  {
   "cell_type": "code",
   "execution_count": 2,
   "id": "486b09ec",
   "metadata": {},
   "outputs": [],
   "source": [
    "def read_lobster_lightweight_json(filename: str):\n",
    "    \"\"\"\n",
    "    This function loads the json.gz files and returns a dictionary with lobsterpy summmarized bonding analysis.\n",
    "    \n",
    "    Args:\n",
    "        filename (str) : name of file\n",
    "    Returns:\n",
    "        Returns a dictionary with lobstepy summmarized bonding analysis output.\n",
    "    \"\"\"\n",
    "    with gzip.open(filename, 'rb') as f:\n",
    "        data = json.loads(f.read().decode('utf-8'))\n",
    "        \n",
    "    lobster_data = {}\n",
    "    for item in data:\n",
    "        lobster_data.update(item)\n",
    "   \n",
    "    return lobster_data"
   ]
  },
  {
   "cell_type": "code",
   "execution_count": 4,
   "id": "91f0b781",
   "metadata": {},
   "outputs": [],
   "source": [
    "lobster_summary = read_lobster_lightweight_json(filename='../Example_data/Lightweight_jsons/mp-1000.json.gz')"
   ]
  },
  {
   "cell_type": "code",
   "execution_count": 5,
   "id": "a464b497",
   "metadata": {},
   "outputs": [
    {
     "data": {
      "text/plain": [
       "dict_keys(['cation_anion_bonds', 'all_bonds', 'madelung_energies', 'charges'])"
      ]
     },
     "execution_count": 5,
     "metadata": {},
     "output_type": "execute_result"
    }
   ],
   "source": [
    "## Access data \n",
    "lobster_summary.keys()"
   ]
  },
  {
   "cell_type": "markdown",
   "id": "162185de",
   "metadata": {},
   "source": [
    "### Recreate Lobsterpy automatic analysis plots"
   ]
  },
  {
   "cell_type": "code",
   "execution_count": null,
   "id": "9491c5d6",
   "metadata": {},
   "outputs": [],
   "source": [
    "for number, (key, cohp) in enumerate(lobster_summary['cation_anion_bonds'][\"lobsterpy_data\"][\"cohp_plot_data\"].items()):\n",
    "    plotter = CohpPlotter()\n",
    "    cohp = Cohp.from_dict(cohp)\n",
    "    plotter.add_cohp(key, cohp)\n",
    "    plotter.show()"
   ]
  }
 ],
 "metadata": {
  "hide_input": false,
  "kernelspec": {
   "display_name": "Python 3 (ipykernel)",
   "language": "python",
   "name": "python3"
  },
  "language_info": {
   "codemirror_mode": {
    "name": "ipython",
    "version": 3
   },
   "file_extension": ".py",
   "mimetype": "text/x-python",
   "name": "python",
   "nbconvert_exporter": "python",
   "pygments_lexer": "ipython3",
   "version": "3.11.0"
  }
 },
 "nbformat": 4,
 "nbformat_minor": 5
}

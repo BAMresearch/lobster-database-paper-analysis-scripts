{
 "cells": [
  {
   "cell_type": "code",
   "execution_count": null,
   "id": "c39e15de",
   "metadata": {},
   "outputs": [],
   "source": [
    "import gzip\n",
    "import json\n",
    "from pymatgen.electronic_structure.cohp import Cohp\n",
    "from pymatgen.electronic_structure.plotter import CohpPlotter"
   ]
  },
  {
   "cell_type": "code",
   "execution_count": null,
   "id": "486b09ec",
   "metadata": {},
   "outputs": [],
   "source": [
    "def read_lobster_lightweight_json(filename: str):\n",
    "    \"\"\"\n",
    "    This function loads the json.gz files and returns a dictionary with lobsterpy summmarized bonding analysis.\n",
    "    \n",
    "    Args:\n",
    "        filename (str) : name of file\n",
    "    Returns:\n",
    "        Returns a dictionary with lobstepy summmarized bonding analysis output.\n",
    "    \"\"\"\n",
    "    with gzip.open(filename, 'rb') as f:\n",
    "        data = json.loads(f.read().decode('utf-8'))\n",
    "        \n",
    "    lobster_data = {}\n",
    "    for item in data:\n",
    "        lobster_data.update(item)\n",
    "   \n",
    "    return lobster_data"
   ]
  },
  {
   "cell_type": "code",
   "execution_count": null,
   "id": "91f0b781",
   "metadata": {},
   "outputs": [],
   "source": [
    "lobster_summary = read_lobster_lightweight_json(filename='../Lightweight_jsons/mp-1000.json.gz')"
   ]
  },
  {
   "cell_type": "code",
   "execution_count": null,
   "id": "a464b497",
   "metadata": {},
   "outputs": [],
   "source": [
    "## Access data \n",
    "lobster_summary.keys()"
   ]
  },
  {
   "cell_type": "code",
   "execution_count": null,
   "id": "efa8deb6",
   "metadata": {
    "scrolled": true
   },
   "outputs": [],
   "source": [
    "lobster_summary['cation_anion_bonds']['lobsterpy_data']"
   ]
  },
  {
   "cell_type": "markdown",
   "id": "162185de",
   "metadata": {},
   "source": [
    "### Recreate Lobsterpy automatic analysis plots"
   ]
  },
  {
   "cell_type": "code",
   "execution_count": null,
   "id": "9491c5d6",
   "metadata": {},
   "outputs": [],
   "source": [
    "for number, (key, cohp) in enumerate(lobster_summary['cation_anion_bonds'][\"lobsterpy_data\"][\"cohp_plot_data\"].items()):\n",
    "    plotter = CohpPlotter()\n",
    "    cohp = Cohp.from_dict(cohp)\n",
    "    plotter.add_cohp(key, cohp)\n",
    "    plotter.show()"
   ]
  }
 ],
 "metadata": {
  "hide_input": false,
  "kernelspec": {
   "display_name": "Python 3 (ipykernel)",
   "language": "python",
   "name": "python3"
  },
  "language_info": {
   "codemirror_mode": {
    "name": "ipython",
    "version": 3
   },
   "file_extension": ".py",
   "mimetype": "text/x-python",
   "name": "python",
   "nbconvert_exporter": "python",
   "pygments_lexer": "ipython3",
   "version": "3.10.4"
  }
 },
 "nbformat": 4,
 "nbformat_minor": 5
}

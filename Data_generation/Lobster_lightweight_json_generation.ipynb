{
 "cells": [
  {
   "cell_type": "code",
   "execution_count": 1,
   "id": "469e76bf",
   "metadata": {},
   "outputs": [],
   "source": [
    "import os\n",
    "import json\n",
    "import gzip\n",
    "import multiprocessing as mp\n",
    "import warnings\n",
    "warnings.filterwarnings('ignore')\n",
    "from tqdm.autonotebook import tqdm\n",
    "from atomate2.lobster.schemas import LobsterTaskDocument, CondensedBondingAnalysis\n",
    "from pydantic import create_model\n",
    "from pymatgen.io.lobster import Charge,MadelungEnergies"
   ]
  },
  {
   "cell_type": "code",
   "execution_count": 2,
   "id": "05cfe138",
   "metadata": {},
   "outputs": [],
   "source": [
    "parent=os.getcwd()\n",
    "os.chdir(parent)\n",
    "os.chdir('Results/')"
   ]
  },
  {
   "cell_type": "code",
   "execution_count": 3,
   "id": "d9186cf5",
   "metadata": {},
   "outputs": [],
   "source": [
    "mpids= [f for f in os.listdir() if not f.startswith('t') and not f.startswith('.') and not f.startswith('__')\n",
    "            and os.path.isdir(f)]\n",
    "mats= list(set([ids.split('_')[0] for ids in mpids]))\n",
    "mats.sort()"
   ]
  },
  {
   "cell_type": "code",
   "execution_count": 4,
   "id": "d96ddc86",
   "metadata": {},
   "outputs": [],
   "source": [
    "def get_lobster_lightweight_json(mpid, \n",
    "    json_save_dir='/hpc-user/AG-JGeorge/anaik/Phonon_dataset_LSO/Lightweight_lobster_jsons/'):\n",
    "    \n",
    "    directory = mpid\n",
    "    \n",
    "    which_bonds=['cation-anion','all']\n",
    "    with gzip.open(os.path.join(json_save_dir, \"{}.json.gz\".format(mpid)), 'wt',encoding='UTF-8') as f:\n",
    "            f.write('[')\n",
    "            for which_bond in which_bonds:\n",
    "                    try:\n",
    "                        (lobsterpy_data,\n",
    "                         lobsterpy_text,\n",
    "                         sb_icobi,\n",
    "                         sb_icohp,\n",
    "                         sb_icoop) = CondensedBondingAnalysis.from_directory(dir_name=mpid, which_bonds=which_bond,\n",
    "                                                                       save_cohp_plots=False)\n",
    "                        #data = CondensedBondingAnalysis.from_directory(dir_name=mpid, which_bonds=which_bond,\n",
    "                        #                                               save_cohp_plots=False)\n",
    "\n",
    "\n",
    "                        bond_type = which_bond.replace('-','_')\n",
    "                        dict_data= {bond_type+'_bonds':{\n",
    "                        'lobsterpy_data': lobsterpy_data.dict(),\n",
    "                        'lobsterpy_text': [\"\".join(lobsterpy_text.text)],\n",
    "                        'sb_icobi': sb_icobi.dict(),\n",
    "                        'sb_icohp': sb_icohp.dict(),\n",
    "                        'sb_icoop': sb_icoop.dict(),\n",
    "                        }}\n",
    "\n",
    "                        for item in dict_data[bond_type+'_bonds']['lobsterpy_data']['cohp_plot_data'].items():\n",
    "                            key, value = item\n",
    "                            # check if item has a `as_dict` method (i.e. it is a pymatgen object)\n",
    "                            if hasattr(value, 'as_dict'):\n",
    "                                dict_data[bond_type+'_bonds']['lobsterpy_data']['cohp_plot_data'][key]=value.as_dict()            \n",
    "                        json.dump(dict_data, f)\n",
    "\n",
    "                        if which_bond != which_bonds[-1]: \n",
    "                            f.write(',') #add comma seperator between two dicts\n",
    "                            \n",
    "                    except AttributeError:\n",
    "                        dict_data={bond_type+'_bonds':{}}\n",
    "                        json.dump(dict_data, f)\n",
    "                        \n",
    "                        if which_bond != which_bonds[-1]: \n",
    "                            f.write(',') #add comma seperator between two dicts\n",
    "                            \n",
    "            f.write(',')        \n",
    "            madelung_energies_path = os.path.join(mpid, \"MadelungEnergies.lobster.gz\")\n",
    "            charge_path = os.path.join(mpid,\"CHARGE.lobster.gz\")\n",
    "            madelung_obj = MadelungEnergies(filename=madelung_energies_path)\n",
    "\n",
    "            madelung_energies = {'madelung_energies':{\n",
    "                \"Mulliken\": madelung_obj.madelungenergies_Mulliken,\n",
    "                \"Loewdin\": madelung_obj.madelungenergies_Loewdin,\n",
    "                \"Ewald_splitting\": madelung_obj.ewald_splitting,\n",
    "            }}\n",
    "            json.dump(madelung_energies, f)\n",
    "            f.write(',')\n",
    "            charge = Charge(charge_path)\n",
    "            charges = {\"charges\":{\"Mulliken\": charge.Mulliken, \"Loewdin\": charge.Loewdin}}\n",
    "            json.dump(charges, f)\n",
    "                    #f.write(',')\n",
    "                        \n",
    "                    #except IndexError:\n",
    "                    #    print(mpid)\n",
    "                    #    pass\n",
    "                    #except TypeError:\n",
    "                    #    print('Type Error for this:',mpid)\n",
    "                    #    pass\n",
    "            f.write(']')\n",
    "    return mpid+' Done'"
   ]
  },
  {
   "cell_type": "code",
   "execution_count": null,
   "id": "0dbfa263",
   "metadata": {},
   "outputs": [],
   "source": [
    "# Key Error : \n",
    "#mp-10159, mp-10378, mp-10289, mp-15724, mp-15988, mp-984761,mp-961713,mp-961682,mp-961659,mp-866141,\n",
    "#mp-867339,mp-7173,mp-697030, mp-697038,mp-643002,mp-581024,mp-569779,mp-5077,mp-35152,mp-20450,mp-2894\n",
    "#mp-24292,mp-23222,mp-2074,mp-15988,mp-15724"
   ]
  },
  {
   "cell_type": "code",
   "execution_count": null,
   "id": "30377311",
   "metadata": {},
   "outputs": [],
   "source": [
    "get_lobster_lightweight_json(mpid='mp-149')"
   ]
  },
  {
   "cell_type": "code",
   "execution_count": null,
   "id": "16c71472",
   "metadata": {},
   "outputs": [],
   "source": [
    "# Attribute error : mp-149, mp-165, mp-2695, mp-66"
   ]
  },
  {
   "cell_type": "code",
   "execution_count": 5,
   "id": "1c96d70a",
   "metadata": {},
   "outputs": [
    {
     "data": {
      "application/vnd.jupyter.widget-view+json": {
       "model_id": "5bfc00d4ddc248d8b9a35f632858ae56",
       "version_major": 2,
       "version_minor": 0
      },
      "text/plain": [
       "  0%|          | 0/1520 [00:00<?, ?it/s]"
      ]
     },
     "metadata": {},
     "output_type": "display_data"
    }
   ],
   "source": [
    "with mp.Pool(processes=12,maxtasksperchild=1) as pool:\n",
    "    results = tqdm(\n",
    "        pool.imap_unordered(get_lobster_lightweight_json, mats, chunksize=1),\n",
    "        total=len(mats),\n",
    "    )\n",
    "    row=[]\n",
    "    for result in results:\n",
    "        row.append(result)"
   ]
  },
  {
   "cell_type": "code",
   "execution_count": null,
   "id": "37e7c55a",
   "metadata": {},
   "outputs": [],
   "source": [
    "# Weak bonds than cutoff description fails\n",
    "#mp-632319\n",
    "#mp-989642"
   ]
  },
  {
   "cell_type": "code",
   "execution_count": null,
   "id": "d31230ca",
   "metadata": {},
   "outputs": [],
   "source": [
    "from pymatgen.electronic_structure.cohp import Cohp\n",
    "from pymatgen.electronic_structure.plotter import CohpPlotter"
   ]
  },
  {
   "cell_type": "code",
   "execution_count": null,
   "id": "44645788",
   "metadata": {},
   "outputs": [],
   "source": [
    "def read_lobster_lightweight_json(filename: str):\n",
    "    \"\"\"\n",
    "    This function loads the json.gz files and returns a dictionary with lobsterpy summmarized bonding analysis.\n",
    "    \n",
    "    Args:\n",
    "        filename (str) : name of file\n",
    "    Returns:\n",
    "        Returns a dictionary with lobstepy summmarized bonding analysis output.\n",
    "    \"\"\"\n",
    "    with gzip.open(filename, 'rb') as f:\n",
    "        data = json.loads(f.read().decode('utf-8'))\n",
    "        \n",
    "    lobsterpy_data = {}\n",
    "    for item in data:\n",
    "        lobsterpy_data.update(item)\n",
    "   \n",
    "    return lobsterpy_data"
   ]
  },
  {
   "cell_type": "code",
   "execution_count": null,
   "id": "015b1d18",
   "metadata": {},
   "outputs": [],
   "source": [
    "lobsterpy_summary = read_lobster_lightweight_json(filename='../Lightweight_lobster_jsons/mp-682.json.gz')"
   ]
  },
  {
   "cell_type": "code",
   "execution_count": null,
   "id": "0a31ca8d",
   "metadata": {},
   "outputs": [],
   "source": [
    "lobsterpy_summary['all_bonds']['lobsterpy_text']"
   ]
  },
  {
   "cell_type": "code",
   "execution_count": null,
   "id": "e0ba9b34",
   "metadata": {},
   "outputs": [],
   "source": [
    "lobsterpy_summary"
   ]
  },
  {
   "cell_type": "code",
   "execution_count": null,
   "id": "653a2f6f",
   "metadata": {},
   "outputs": [],
   "source": [
    "lobsterpy_summary['all_bonds']['sb_icohp']"
   ]
  },
  {
   "cell_type": "code",
   "execution_count": null,
   "id": "c465f074",
   "metadata": {},
   "outputs": [],
   "source": [
    "lobsterpy_summary['all_bonds']['sb_icobi']"
   ]
  },
  {
   "cell_type": "code",
   "execution_count": null,
   "id": "40dcfb9c",
   "metadata": {},
   "outputs": [],
   "source": [
    "lobsterpy_summary['all_bonds']['sb_icoop']"
   ]
  },
  {
   "cell_type": "code",
   "execution_count": null,
   "id": "2b7e00f9",
   "metadata": {},
   "outputs": [],
   "source": [
    "for number, (key, cohp) in enumerate(lobsterpy_summary['all'][\"lobsterpy_data\"][\"cohp_plot_data\"].items()):\n",
    "    plotter = CohpPlotter()\n",
    "    cohp = Cohp.from_dict(cohp)\n",
    "    plotter.add_cohp(key, cohp)\n",
    "    plotter.show()"
   ]
  }
 ],
 "metadata": {
  "hide_input": false,
  "kernelspec": {
   "display_name": "Python 3 (ipykernel)",
   "language": "python",
   "name": "python3"
  },
  "language_info": {
   "codemirror_mode": {
    "name": "ipython",
    "version": 3
   },
   "file_extension": ".py",
   "mimetype": "text/x-python",
   "name": "python",
   "nbconvert_exporter": "python",
   "pygments_lexer": "ipython3",
   "version": "3.10.4"
  }
 },
 "nbformat": 4,
 "nbformat_minor": 5
}

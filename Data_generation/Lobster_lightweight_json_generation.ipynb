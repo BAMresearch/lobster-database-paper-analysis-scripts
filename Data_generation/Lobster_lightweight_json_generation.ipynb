{
 "cells": [
  {
   "cell_type": "code",
   "execution_count": null,
   "id": "469e76bf",
   "metadata": {},
   "outputs": [],
   "source": [
    "import os\n",
    "import json\n",
    "import gzip\n",
    "import multiprocessing as mp\n",
    "import warnings\n",
    "warnings.filterwarnings('ignore')\n",
    "from tqdm.autonotebook import tqdm\n",
    "from atomate2.lobster.schemas import LobsterTaskDocument, CondensedBondingAnalysis\n",
    "from pydantic import create_model\n",
    "from pymatgen.io.lobster import Charge,MadelungEnergies"
   ]
  },
  {
   "cell_type": "code",
   "execution_count": null,
   "id": "05cfe138",
   "metadata": {},
   "outputs": [],
   "source": [
    "parent=os.getcwd()\n",
    "os.chdir(parent)\n",
    "os.chdir('Results/') #Directory consisting of lobster outputs"
   ]
  },
  {
   "cell_type": "code",
   "execution_count": null,
   "id": "d9186cf5",
   "metadata": {},
   "outputs": [],
   "source": [
    "mpids= [f for f in os.listdir() if not f.startswith('t') and not f.startswith('.') and not f.startswith('__')\n",
    "            and os.path.isdir(f)]\n",
    "mats= list(set([ids.split('_')[0] for ids in mpids]))\n",
    "mats.sort()"
   ]
  },
  {
   "cell_type": "code",
   "execution_count": null,
   "id": "d96ddc86",
   "metadata": {},
   "outputs": [],
   "source": [
    "def get_lobster_lightweight_json(mpid, json_save_dir='/path/to/store/lobsterlightweightjsons/'):\n",
    "    \n",
    "    directory = mpid\n",
    "    \n",
    "    which_bonds=['cation-anion','all']\n",
    "    with gzip.open(os.path.join(json_save_dir, \"{}.json.gz\".format(mpid)), 'wt',encoding='UTF-8') as f:\n",
    "            f.write('[')\n",
    "            for which_bond in which_bonds:\n",
    "                    try:\n",
    "                        (lobsterpy_data,\n",
    "                         lobsterpy_text,\n",
    "                         sb_icobi,\n",
    "                         sb_icohp,\n",
    "                         sb_icoop) = CondensedBondingAnalysis.from_directory(dir_name=mpid, which_bonds=which_bond,\n",
    "                                                                       save_cohp_plots=False)\n",
    "\n",
    "                        bond_type = which_bond.replace('-','_')\n",
    "                        dict_data= {bond_type+'_bonds':{\n",
    "                        'lobsterpy_data': lobsterpy_data.dict(),\n",
    "                        'lobsterpy_text': [\"\".join(lobsterpy_text.text)],\n",
    "                        'sb_icobi': sb_icobi.dict(),\n",
    "                        'sb_icohp': sb_icohp.dict(),\n",
    "                        'sb_icoop': sb_icoop.dict(),\n",
    "                        }}\n",
    "\n",
    "                        for item in dict_data[bond_type+'_bonds']['lobsterpy_data']['cohp_plot_data'].items():\n",
    "                            key, value = item\n",
    "                            # check if item has a `as_dict` method (i.e. it is a pymatgen object)\n",
    "                            if hasattr(value, 'as_dict'):\n",
    "                                dict_data[bond_type+'_bonds']['lobsterpy_data']['cohp_plot_data'][key]=value.as_dict()            \n",
    "                        json.dump(dict_data, f)\n",
    "\n",
    "                        if which_bond != which_bonds[-1]: \n",
    "                            f.write(',') #add comma seperator between two dicts\n",
    "                            \n",
    "                    except AttributeError:\n",
    "                        dict_data={bond_type+'_bonds':{}}\n",
    "                        json.dump(dict_data, f)\n",
    "                        \n",
    "                        if which_bond != which_bonds[-1]: \n",
    "                            f.write(',') #add comma seperator between two dicts\n",
    "                            \n",
    "            f.write(',')        \n",
    "            madelung_energies_path = os.path.join(mpid, \"MadelungEnergies.lobster.gz\")\n",
    "            charge_path = os.path.join(mpid,\"CHARGE.lobster.gz\")\n",
    "            madelung_obj = MadelungEnergies(filename=madelung_energies_path)\n",
    "\n",
    "            madelung_energies = {'madelung_energies':{\n",
    "                \"Mulliken\": madelung_obj.madelungenergies_Mulliken,\n",
    "                \"Loewdin\": madelung_obj.madelungenergies_Loewdin,\n",
    "                \"Ewald_splitting\": madelung_obj.ewald_splitting,\n",
    "            }}\n",
    "            json.dump(madelung_energies, f)\n",
    "            f.write(',')\n",
    "            charge = Charge(charge_path)\n",
    "            charges = {\"charges\":{\"Mulliken\": charge.Mulliken, \"Loewdin\": charge.Loewdin}}\n",
    "            json.dump(charges, f)\n",
    "            f.write(']')\n",
    "    return mpid+' Done'"
   ]
  },
  {
   "cell_type": "code",
   "execution_count": null,
   "id": "1c96d70a",
   "metadata": {},
   "outputs": [],
   "source": [
    "# Caution : Make sure to change the number of parallel processes as per your system\n",
    "with mp.Pool(processes=12,maxtasksperchild=1) as pool:\n",
    "    results = tqdm(\n",
    "        pool.imap_unordered(get_lobster_lightweight_json, mats, chunksize=1),\n",
    "        total=len(mats),\n",
    "    )\n",
    "    row=[]\n",
    "    for result in results:\n",
    "        row.append(result)"
   ]
  }
 ],
 "metadata": {
  "hide_input": false,
  "kernelspec": {
   "display_name": "Python 3 (ipykernel)",
   "language": "python",
   "name": "python3"
  },
  "language_info": {
   "codemirror_mode": {
    "name": "ipython",
    "version": 3
   },
   "file_extension": ".py",
   "mimetype": "text/x-python",
   "name": "python",
   "nbconvert_exporter": "python",
   "pygments_lexer": "ipython3",
   "version": "3.11.0"
  }
 },
 "nbformat": 4,
 "nbformat_minor": 5
}

{
 "cells": [
  {
   "cell_type": "code",
   "execution_count": null,
   "id": "206e9f85",
   "metadata": {},
   "outputs": [],
   "source": [
    "from automatminer import MatPipe\n",
    "from automatminer.automl.adaptors import SinglePipelineAdaptor, TPOTAdaptor\n",
    "from automatminer.featurization import AutoFeaturizer\n",
    "from automatminer.preprocessing import DataCleaner, FeatureReducer\n",
    "from sklearn.ensemble import RandomForestClassifier, RandomForestRegressor\n",
    "from matminer.datasets.dataset_retrieval import load_dataset\n",
    "import pandas as pd"
   ]
  },
  {
   "cell_type": "code",
   "execution_count": null,
   "id": "a59cf630",
   "metadata": {},
   "outputs": [],
   "source": [
    "df_matminer_phonon = load_dataset('matbench_phonons')"
   ]
  },
  {
   "cell_type": "code",
   "execution_count": null,
   "id": "7aa000b7",
   "metadata": {},
   "outputs": [],
   "source": [
    "df_matminer_ph_dielec = load_dataset('phonon_dielectric_mp')\n",
    "df_matminer_ph_dielec.set_index('mpid',inplace=True)"
   ]
  },
  {
   "cell_type": "code",
   "execution_count": null,
   "id": "37b42b12",
   "metadata": {},
   "outputs": [],
   "source": [
    "#add mpid to structure objects in the phonon dataset\n",
    "for row, col in df_matminer_ph_dielec.iterrows():\n",
    "    for row2,col2 in df_matminer_phonon.iterrows():\n",
    "        if col['structure'] == df_matminer_phonon.loc[row2,'structure']:\n",
    "            df_matminer_phonon.loc[row2, 'mpid']= row"
   ]
  },
  {
   "cell_type": "code",
   "execution_count": null,
   "id": "42ba87d1",
   "metadata": {},
   "outputs": [],
   "source": [
    "df_matminer_phonon.set_index('mpid',inplace=True)\n",
    "df = df_matminer_phonon"
   ]
  },
  {
   "cell_type": "code",
   "execution_count": null,
   "id": "66445b96",
   "metadata": {},
   "outputs": [],
   "source": [
    "#load lobster features data\n",
    "lobpy_stat= pd.read_csv('Small_basis_sum_stat.csv', sep=';', index_col='mp-ids')\n",
    "lobpy_stat.sort_index(inplace=True)"
   ]
  },
  {
   "cell_type": "code",
   "execution_count": null,
   "id": "1770bc5f",
   "metadata": {},
   "outputs": [],
   "source": [
    "# initialize matminer autofeaturizer to add features based on structure, composition and sine coloumb matrix\n",
    "af =  AutoFeaturizer(n_jobs=10, preset=\"debug\")\n",
    "df = af.fit_transform(df,target ='last phdos peak')"
   ]
  },
  {
   "cell_type": "code",
   "execution_count": null,
   "id": "3aa5dc87",
   "metadata": {},
   "outputs": [],
   "source": [
    "df"
   ]
  },
  {
   "cell_type": "code",
   "execution_count": null,
   "id": "3b682a18",
   "metadata": {},
   "outputs": [],
   "source": [
    "# add lobster features to the dataframe\n",
    "for feat in lobpy_stat.columns:\n",
    "    for row, col in df.iterrows():\n",
    "        df.loc[row,feat] = lobpy_stat.loc[row,feat]"
   ]
  },
  {
   "cell_type": "code",
   "execution_count": null,
   "id": "dd926d77",
   "metadata": {},
   "outputs": [],
   "source": [
    "# Use DataCleaner from automatminer to obtain a clean dataset\n",
    "dc = DataCleaner(feature_na_method=\"mean\", max_na_frac=0.01, na_method_fit=\"drop\", na_method_transform=\"mean\")\n",
    "df = dc.fit_transform(df, target ='last phdos peak')"
   ]
  },
  {
   "cell_type": "code",
   "execution_count": null,
   "id": "915fe123",
   "metadata": {},
   "outputs": [],
   "source": [
    "df.to_pickle('dataforml_automatminer.pkl')"
   ]
  }
 ],
 "metadata": {
  "hide_input": false,
  "kernelspec": {
   "display_name": "Python 3 (ipykernel)",
   "language": "python",
   "name": "python3"
  },
  "language_info": {
   "codemirror_mode": {
    "name": "ipython",
    "version": 3
   },
   "file_extension": ".py",
   "mimetype": "text/x-python",
   "name": "python",
   "nbconvert_exporter": "python",
   "pygments_lexer": "ipython3",
   "version": "3.8.16"
  }
 },
 "nbformat": 4,
 "nbformat_minor": 5
}

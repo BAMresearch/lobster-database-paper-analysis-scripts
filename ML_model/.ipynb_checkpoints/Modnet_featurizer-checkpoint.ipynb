{
 "cells": [
  {
   "cell_type": "code",
   "execution_count": null,
   "id": "9f08ea21",
   "metadata": {},
   "outputs": [],
   "source": [
    "import pandas as pd\n",
    "import numpy as np\n",
    "from modnet.featurizers.presets import Matminer2023Featurizer\n",
    "from modnet.preprocessing import nmi_target ,get_cross_nmi, get_features_relevance_redundancy, get_features_dyn\n",
    "import warnings\n",
    "warnings.filterwarnings('ignore')"
   ]
  },
  {
   "cell_type": "code",
   "execution_count": null,
   "id": "a25500c0",
   "metadata": {},
   "outputs": [],
   "source": [
    "df = pd.read_pickle('matbench_data_with_mpid.pkl')\n",
    "df.set_index('mp-id',inplace=True)\n",
    "df.drop(index=np.nan, inplace=True)\n",
    "df.drop(columns=['last phdos peak', 'Composition','Spacegroup','Formula'], inplace=True)"
   ]
  },
  {
   "cell_type": "code",
   "execution_count": null,
   "id": "14ca5aa3",
   "metadata": {},
   "outputs": [],
   "source": [
    "lobpy_stat= pd.read_csv('Small_basis_sum_stat.csv', sep=';', index_col='mp-ids')\n",
    "lobpy_stat.sort_index(inplace=True)"
   ]
  },
  {
   "cell_type": "code",
   "execution_count": null,
   "id": "f5a5d9ad",
   "metadata": {},
   "outputs": [],
   "source": [
    "feat = Matminer2023Featurizer() #convinience method to add features using matminer from modnet"
   ]
  },
  {
   "cell_type": "code",
   "execution_count": null,
   "id": "3ef4a8ba",
   "metadata": {},
   "outputs": [],
   "source": [
    "df_comp = feat.featurize_composition(df) # get composition based features from matminer"
   ]
  },
  {
   "cell_type": "code",
   "execution_count": null,
   "id": "500faa48",
   "metadata": {},
   "outputs": [],
   "source": [
    "df_comp[df_comp.columns[df_comp.isnull().any()]].isnull().sum() "
   ]
  },
  {
   "cell_type": "code",
   "execution_count": null,
   "id": "e2ccc9d6",
   "metadata": {},
   "outputs": [],
   "source": [
    "df_st = feat.featurize_structure(df) # get structure based features from matminer "
   ]
  },
  {
   "cell_type": "code",
   "execution_count": null,
   "id": "79c3acfc",
   "metadata": {},
   "outputs": [],
   "source": [
    "df_merge = pd.concat([df_st, df_comp], axis=1)"
   ]
  },
  {
   "cell_type": "code",
   "execution_count": null,
   "id": "f64a7dda",
   "metadata": {},
   "outputs": [],
   "source": [
    "# find columns with max null values\n",
    "df_merge[df_merge.columns[df_merge.isnull().any()]].isnull().sum()"
   ]
  },
  {
   "cell_type": "code",
   "execution_count": null,
   "id": "c99cd6cc",
   "metadata": {},
   "outputs": [],
   "source": [
    "# drop columns with maximim null values\n",
    "df_fil = df_merge.drop(columns=['GlobalSymmetryFeatures|crystal_system',\n",
    "                      'AtomicPackingEfficiency|mean simul. packing efficiency',\n",
    "                      'AtomicPackingEfficiency|mean abs simul. packing efficiency',\n",
    "                      'Miedema|Miedema_deltaH_inter',\n",
    "                      'Miedema|Miedema_deltaH_amor',\n",
    "                      'Miedema|Miedema_deltaH_ss_min',\n",
    "                      'YangSolidSolution|Yang delta'])"
   ]
  },
  {
   "cell_type": "code",
   "execution_count": null,
   "id": "86e33671",
   "metadata": {},
   "outputs": [],
   "source": [
    "df_fil.dropna(inplace=True) #drop nan rows"
   ]
  },
  {
   "cell_type": "code",
   "execution_count": null,
   "id": "e445a137",
   "metadata": {},
   "outputs": [],
   "source": [
    "# add lobsterpy summary stat data to dataframe\n",
    "for feat in lobpy_stat.columns:\n",
    "    for row, col in df_fil.iterrows():\n",
    "        #print(row)\n",
    "        df_fil.loc[row,feat] = lobpy_stat.loc[row,feat]\n",
    "    "
   ]
  },
  {
   "cell_type": "code",
   "execution_count": null,
   "id": "96255150",
   "metadata": {},
   "outputs": [],
   "source": [
    "#features = df_merge.drop(columns=['last phdos peak','Input Data|last phdos peak'])"
   ]
  },
  {
   "cell_type": "code",
   "execution_count": null,
   "id": "81f75ce2",
   "metadata": {},
   "outputs": [],
   "source": [
    "df = pd.read_pickle('matbench_data_with_mpid.pkl')\n",
    "df.set_index('mp-id',inplace=True)\n",
    "df.drop(index=np.nan, inplace=True)\n",
    "df.drop(columns=['structure', 'Composition','Spacegroup','Formula'], inplace=True)"
   ]
  },
  {
   "cell_type": "code",
   "execution_count": null,
   "id": "8cc6f504",
   "metadata": {},
   "outputs": [],
   "source": [
    "#targets = df.filter(items = list(df_fil.index) , axis=0)"
   ]
  },
  {
   "cell_type": "code",
   "execution_count": null,
   "id": "a206dec0",
   "metadata": {},
   "outputs": [],
   "source": [
    "#target_nmi= nmi_target(task_type='regression',df_feat=df_fil, df_target=targets,drop_constant_features=True)"
   ]
  },
  {
   "cell_type": "code",
   "execution_count": null,
   "id": "daad5a7f",
   "metadata": {},
   "outputs": [],
   "source": [
    "#cross_nmi= get_cross_nmi(df_feat=df_fil, n_jobs=14, drop_thr=0.2)"
   ]
  },
  {
   "cell_type": "code",
   "execution_count": null,
   "id": "186a11b9",
   "metadata": {},
   "outputs": [],
   "source": [
    "for row, col in df_fil.iterrows():\n",
    "    df_fil.loc[row,'last_phdos_peak']=targets.loc[row,'last phdos peak']"
   ]
  },
  {
   "cell_type": "code",
   "execution_count": null,
   "id": "41f8dfba",
   "metadata": {},
   "outputs": [],
   "source": [
    "df_fil.to_pickle('dataforml.pkl') # save cleaned data ready for ML training"
   ]
  }
 ],
 "metadata": {
  "hide_input": false,
  "kernelspec": {
   "display_name": "Python 3 (ipykernel)",
   "language": "python",
   "name": "python3"
  },
  "language_info": {
   "codemirror_mode": {
    "name": "ipython",
    "version": 3
   },
   "file_extension": ".py",
   "mimetype": "text/x-python",
   "name": "python",
   "nbconvert_exporter": "python",
   "pygments_lexer": "ipython3",
   "version": "3.9.0"
  }
 },
 "nbformat": 4,
 "nbformat_minor": 5
}

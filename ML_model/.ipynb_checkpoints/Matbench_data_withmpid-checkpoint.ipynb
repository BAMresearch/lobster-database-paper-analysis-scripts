{
 "cells": [
  {
   "cell_type": "code",
   "execution_count": null,
   "id": "2d61b3c2",
   "metadata": {},
   "outputs": [],
   "source": [
    "from matminer.datasets.dataset_retrieval import load_dataset\n",
    "import pandas as pd\n",
    "from pymatgen.analysis.structure_matcher import StructureMatcher\n",
    "from pymatgen.core import Structure"
   ]
  },
  {
   "cell_type": "code",
   "execution_count": null,
   "id": "41cb16ef",
   "metadata": {},
   "outputs": [],
   "source": [
    "df = load_dataset('matbench_phonons')"
   ]
  },
  {
   "cell_type": "code",
   "execution_count": null,
   "id": "9d75ca53",
   "metadata": {},
   "outputs": [],
   "source": [
    "df_ionicity = pd.read_pickle('../../Phonon_ionicity.pkl')\n",
    "df_ionicity.sort_index(inplace=True)"
   ]
  },
  {
   "cell_type": "code",
   "execution_count": null,
   "id": "2fff7e04",
   "metadata": {},
   "outputs": [],
   "source": [
    "df_lobpy = pd.read_pickle('../Misc/Lobsterpydata.pkl')\n",
    "df_lobpy.sort_index(inplace=True)"
   ]
  },
  {
   "cell_type": "code",
   "execution_count": null,
   "id": "4627ad71",
   "metadata": {},
   "outputs": [],
   "source": [
    "lobpy_stat= pd.read_csv('Small_basis_sum_stat.csv', sep=';', index_col='mp-ids')\n",
    "lobpy_stat.sort_index(inplace=True)"
   ]
  },
  {
   "cell_type": "code",
   "execution_count": null,
   "id": "845528a9",
   "metadata": {},
   "outputs": [],
   "source": [
    "cols = list(lobpy_stat.columns)"
   ]
  },
  {
   "cell_type": "code",
   "execution_count": null,
   "id": "a665f7a2",
   "metadata": {},
   "outputs": [],
   "source": [
    "df['Composition'] = None"
   ]
  },
  {
   "cell_type": "code",
   "execution_count": null,
   "id": "2625058b",
   "metadata": {},
   "outputs": [],
   "source": [
    "df['Composition'] = df['Composition'].astype(dtype='object')"
   ]
  },
  {
   "cell_type": "code",
   "execution_count": null,
   "id": "c0154ad6",
   "metadata": {},
   "outputs": [],
   "source": [
    "for row, col in df.iterrows():\n",
    "    df.at[row,'Composition'] = df.loc[row,'structure'].composition\n",
    "    df.loc[row,'Formula'] = df.loc[row,'structure'].composition.get_reduced_formula_and_factor()[0]\n",
    "    df.loc[row,'Spacegroup'] = df.loc[row,'structure'].get_space_group_info()[1]"
   ]
  },
  {
   "cell_type": "code",
   "execution_count": null,
   "id": "4cb975d6",
   "metadata": {},
   "outputs": [],
   "source": [
    "SM=StructureMatcher(ltol=0.2, stol=0.3, angle_tol=5,primitive_cell=True)"
   ]
  },
  {
   "cell_type": "code",
   "execution_count": null,
   "id": "1419b122",
   "metadata": {},
   "outputs": [],
   "source": [
    "for row, col in df.iterrows():\n",
    "    for row2,col2 in df_ionicity.iterrows():\n",
    "    #if col['Spacegroup']==col2['Spacegroup_number'] and col['Formula']==col2['Formula']:\n",
    "        st_mp = Structure.from_file('../Results/{}/POSCAR.gz'.format(row2))\n",
    "        st_mb = df.loc[row,'structure']\n",
    "        if SM.fit(st_mp,st_mb) and col['Spacegroup']==col2['Spacegroup_number'] and col['Formula']==col2['Formula']:\n",
    "            df.loc[row,'mp-id'] = row2"
   ]
  },
  {
   "cell_type": "code",
   "execution_count": null,
   "id": "6a5311ad",
   "metadata": {},
   "outputs": [],
   "source": [
    "df.to_pickle('matbench_data_with_mpid.pkl')"
   ]
  }
 ],
 "metadata": {
  "hide_input": false,
  "kernelspec": {
   "display_name": "Python 3 (ipykernel)",
   "language": "python",
   "name": "python3"
  },
  "language_info": {
   "codemirror_mode": {
    "name": "ipython",
    "version": 3
   },
   "file_extension": ".py",
   "mimetype": "text/x-python",
   "name": "python",
   "nbconvert_exporter": "python",
   "pygments_lexer": "ipython3",
   "version": "3.9.0"
  }
 },
 "nbformat": 4,
 "nbformat_minor": 5
}

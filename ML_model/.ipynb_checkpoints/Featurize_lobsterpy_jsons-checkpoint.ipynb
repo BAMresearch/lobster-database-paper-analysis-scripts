{
 "cells": [
  {
   "cell_type": "code",
   "execution_count": null,
   "id": "c8fd21a0",
   "metadata": {},
   "outputs": [],
   "source": [
    "import os\n",
    "import gzip\n",
    "import json\n",
    "import numpy as np\n",
    "import pandas as pd\n",
    "import multiprocessing as mp\n",
    "import warnings\n",
    "from tqdm.notebook import tqdm"
   ]
  },
  {
   "cell_type": "code",
   "execution_count": null,
   "id": "4b2c77a6",
   "metadata": {},
   "outputs": [],
   "source": [
    "from lobsterpy.cohp.analyze import Analysis\n",
    "from pymatgen.electronic_structure.core import Spin\n",
    "from lobsterpy.cohp.describe import Description"
   ]
  },
  {
   "cell_type": "code",
   "execution_count": null,
   "id": "281027d6",
   "metadata": {},
   "outputs": [],
   "source": [
    "os.chdir('../Lobsterpy_json/')"
   ]
  },
  {
   "cell_type": "code",
   "execution_count": null,
   "id": "f2f9bbf4",
   "metadata": {},
   "outputs": [],
   "source": [
    "mpids = [f for f in os.listdir(\".\")]"
   ]
  },
  {
   "cell_type": "code",
   "execution_count": null,
   "id": "51ee1b2f",
   "metadata": {},
   "outputs": [],
   "source": [
    "#with gzip.open('mp-632319.json.gz', 'r') as f:\n",
    "#    data = json.loads(f.read().decode('utf-8'))"
   ]
  },
  {
   "cell_type": "code",
   "execution_count": null,
   "id": "8e96fd75",
   "metadata": {},
   "outputs": [],
   "source": [
    "def featurize_lobsterpy_icohp(mpid):\n",
    "    \"\"\"\n",
    "    This function loads lobsterpy json files and computes summary stats dataframe used in ML model\n",
    "    \"\"\"\n",
    "    df = pd.DataFrame(index=[mpid.split('.')[0]])\n",
    "    with gzip.open(mpid, 'r') as f:\n",
    "        data = json.loads(f.read().decode('utf-8'))\n",
    "        \n",
    "    try:\n",
    "        Icohp_mean=[]\n",
    "        Icohp_sum=[]\n",
    "        bond=[]\n",
    "        antibond=[]\n",
    "        for k, v in data['sites'].items():\n",
    "            for k1,v1 in v['bonds'].items():\n",
    "                Icohp_mean.append(float(v1['ICOHP_mean']))\n",
    "                Icohp_sum.append(float(v1['ICOHP_sum']))\n",
    "                bond.append(v1['bonding']['perc'])\n",
    "                antibond.append(v1['antibonding']['perc'])\n",
    "\n",
    "        df.loc[mpid.split('.')[0],'Icohp_mean_avg'] = np.mean(Icohp_mean)\n",
    "        df.loc[mpid.split('.')[0],'Icohp_mean_max'] = np.max(Icohp_mean)\n",
    "        df.loc[mpid.split('.')[0],'Icohp_mean_min'] = np.min(Icohp_mean)\n",
    "        df.loc[mpid.split('.')[0],'Icohp_mean_std'] = np.std(Icohp_mean)\n",
    "\n",
    "        df.loc[mpid.split('.')[0],'Icohp_sum_avg'] = np.mean(Icohp_sum)\n",
    "        df.loc[mpid.split('.')[0],'Icohp_sum_max'] = np.max(Icohp_sum)\n",
    "        df.loc[mpid.split('.')[0],'Icohp_sum_min'] = np.min(Icohp_sum)\n",
    "        df.loc[mpid.split('.')[0],'Icohp_sum_std'] = np.std(Icohp_sum)\n",
    "\n",
    "        df.loc[mpid.split('.')[0],'bonding_perc_avg'] = np.mean(bond)\n",
    "        df.loc[mpid.split('.')[0],'bonding_perc_max'] = np.max(bond)\n",
    "        df.loc[mpid.split('.')[0],'bonding_perc_min'] = np.min(bond)\n",
    "        df.loc[mpid.split('.')[0],'bonding_perc_std'] = np.std(bond)\n",
    "\n",
    "        df.loc[mpid.split('.')[0],'antibonding_perc_avg'] = np.mean(antibond)\n",
    "        df.loc[mpid.split('.')[0],'antibonding_perc_min'] = np.min(antibond)\n",
    "        df.loc[mpid.split('.')[0],'antibonding_perc_max'] = np.max(antibond)\n",
    "        df.loc[mpid.split('.')[0],'antibonding_perc_std'] = np.std(antibond)\n",
    "\n",
    "        df.loc[mpid.split('.')[0],'Madelung_Mull'] = data['madelung_energy']\n",
    "    except ValueError:\n",
    "        print(mpid)\n",
    "    \n",
    "    return df  # Return pandas Dataframe"
   ]
  },
  {
   "cell_type": "code",
   "execution_count": null,
   "id": "2a752021",
   "metadata": {},
   "outputs": [],
   "source": [
    "with mp.Pool(processes=14,maxtasksperchild=1) as pool:\n",
    "    results = tqdm(\n",
    "        pool.imap_unordered(featurize_lobsterpy_icohp, mpids, chunksize=1),\n",
    "        total=len(mpids), desc=\"Generating summarized LobsterPy dataframe\",\n",
    "    )\n",
    "    row=[]\n",
    "    for result in results:\n",
    "        row.append(result)"
   ]
  },
  {
   "cell_type": "code",
   "execution_count": null,
   "id": "9c1d09ca",
   "metadata": {},
   "outputs": [],
   "source": [
    "df = pd.concat(row)"
   ]
  },
  {
   "cell_type": "code",
   "execution_count": null,
   "id": "4aa51670",
   "metadata": {},
   "outputs": [],
   "source": [
    "df.to_csv('Small_basis_sum_stat.csv')"
   ]
  }
 ],
 "metadata": {
  "hide_input": false,
  "kernelspec": {
   "display_name": "Python 3 (ipykernel)",
   "language": "python",
   "name": "python3"
  },
  "language_info": {
   "codemirror_mode": {
    "name": "ipython",
    "version": 3
   },
   "file_extension": ".py",
   "mimetype": "text/x-python",
   "name": "python",
   "nbconvert_exporter": "python",
   "pygments_lexer": "ipython3",
   "version": "3.9.0"
  }
 },
 "nbformat": 4,
 "nbformat_minor": 5
}

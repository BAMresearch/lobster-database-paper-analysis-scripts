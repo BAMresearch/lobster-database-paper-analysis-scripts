{
 "cells": [
  {
   "cell_type": "code",
   "execution_count": null,
   "id": "2be24b8e",
   "metadata": {},
   "outputs": [],
   "source": [
    "import plotly.graph_objects as go\n",
    "import plotly.io as pio\n",
    "import pandas as pd\n",
    "pio.templates.default = \"plotly_white\""
   ]
  },
  {
   "cell_type": "code",
   "execution_count": null,
   "id": "0b545b18",
   "metadata": {},
   "outputs": [],
   "source": [
    "ex_icohp = pd.read_csv('exc_icohp/summary_results.csv', index_col='Unnamed: 0')\n",
    "inc_icohp = pd.read_csv('inc_icohp/summary_results.csv', index_col='Unnamed: 0')"
   ]
  },
  {
   "cell_type": "markdown",
   "id": "467b695c",
   "metadata": {},
   "source": [
    "### Models test set MAE (with and without ICOHP features)"
   ]
  },
  {
   "cell_type": "markdown",
   "id": "3ef21b40",
   "metadata": {},
   "source": [
    "#### Including ICOHP stats"
   ]
  },
  {
   "cell_type": "code",
   "execution_count": null,
   "id": "75f50ce2",
   "metadata": {},
   "outputs": [],
   "source": [
    "inc_icohp"
   ]
  },
  {
   "cell_type": "markdown",
   "id": "dd528528",
   "metadata": {},
   "source": [
    "#### Excluding ICOHP stats (only magpie features with sine coloumb matrix)"
   ]
  },
  {
   "cell_type": "code",
   "execution_count": null,
   "id": "8c938474",
   "metadata": {},
   "outputs": [],
   "source": [
    "ex_icohp"
   ]
  },
  {
   "cell_type": "code",
   "execution_count": null,
   "id": "fcc804d7",
   "metadata": {},
   "outputs": [],
   "source": [
    "fig = go.Figure()\n",
    "fig.add_traces(go.Scatter(x=ex_icohp.index, \n",
    "                          y= ex_icohp.mae_test_mean,\n",
    "                          marker=dict(size=10),\n",
    "                          error_y=dict(\n",
    "                            type='data', # value of error bar given in data coordinates\n",
    "                            array=ex_icohp.mae_test_std,\n",
    "                            visible=True),\n",
    "                          mode='markers+lines',\n",
    "                          name='exc_icohp'))\n",
    "fig.add_traces(go.Scatter(x=inc_icohp.index, \n",
    "                          y= inc_icohp.mae_test_mean,\n",
    "                          marker=dict(size=10),\n",
    "                          error_y=dict(\n",
    "                            type='data', # value of error bar given in data coordinates\n",
    "                            array=inc_icohp.mae_test_std,\n",
    "                            visible=True),\n",
    "                          mode='markers+lines',\n",
    "                          name='inc_icohp'))\n",
    "\n",
    "fig.update_traces(marker_opacity=0.5)\n",
    "fig.update_layout(yaxis = dict(tickfont = dict(size=18)))\n",
    "fig.update_layout(xaxis = dict(tickfont = dict(size=18)))\n",
    "fig.update_yaxes(title_font=dict(size=22), color='black')\n",
    "fig.update_xaxes(title_font=dict(size=22), color='black')\n",
    "fig.update_layout(width=1000, height =1000)\n",
    "fig.update_xaxes(showline=True, linewidth=1, linecolor='black', mirror=True, showgrid=False)\n",
    "fig.update_yaxes(showline=True, linewidth=1, linecolor='black', mirror=True, showgrid=False)\n",
    "fig.update_xaxes(ticks=\"inside\", tickwidth=1, tickcolor='black', ticklen=5)\n",
    "fig.update_yaxes(ticks=\"inside\", tickwidth=1, tickcolor='black', ticklen=5)\n",
    "\n",
    "fig.update_layout(yaxis_title=\"$MAE cm^{-1}$\", xaxis_title = 'Models')\n",
    "fig.update_layout(yaxis = dict(tickfont = dict(size=18)))\n",
    "fig.update_layout(xaxis = dict(tickfont = dict(size=18)))\n",
    "#fig.update_xaxes(tickmode='linear', tick0=0.0, dtick=1.0)\n",
    "fig.show()"
   ]
  },
  {
   "cell_type": "markdown",
   "id": "7adc6344",
   "metadata": {},
   "source": [
    "## Models train and test MAE"
   ]
  },
  {
   "cell_type": "code",
   "execution_count": null,
   "id": "d98852a1",
   "metadata": {},
   "outputs": [],
   "source": [
    "fig = go.Figure()\n",
    "fig.add_traces(go.Scatter(x=inc_icohp.index, \n",
    "                          y= inc_icohp.mae_train_mean,\n",
    "                          marker=dict(size=10),\n",
    "                          error_y=dict(\n",
    "                            type='data', # value of error bar given in data coordinates\n",
    "                            array=inc_icohp.mae_test_std,\n",
    "                            visible=True),\n",
    "                          mode='markers+lines',\n",
    "                          name='Train'))\n",
    "fig.add_traces(go.Scatter(x=inc_icohp.index, \n",
    "                          y= inc_icohp.mae_test_mean,\n",
    "                          marker=dict(size=10),\n",
    "                          error_y=dict(\n",
    "                            type='data', # value of error bar given in data coordinates\n",
    "                            array=inc_icohp.mae_test_std,\n",
    "                            visible=True),\n",
    "                          mode='markers+lines',\n",
    "                          name='Test'))\n",
    "\n",
    "fig.update_traces(marker_opacity=0.5)\n",
    "fig.update_layout(yaxis = dict(tickfont = dict(size=18)))\n",
    "fig.update_layout(xaxis = dict(tickfont = dict(size=18)))\n",
    "fig.update_yaxes(title_font=dict(size=22), color='black')\n",
    "fig.update_xaxes(title_font=dict(size=22), color='black')\n",
    "fig.update_layout(width=1000, height =1000)\n",
    "fig.update_xaxes(showline=True, linewidth=1, linecolor='black', mirror=True, showgrid=False)\n",
    "fig.update_yaxes(showline=True, linewidth=1, linecolor='black', mirror=True, showgrid=False)\n",
    "fig.update_xaxes(ticks=\"inside\", tickwidth=1, tickcolor='black', ticklen=5)\n",
    "fig.update_yaxes(ticks=\"inside\", tickwidth=1, tickcolor='black', ticklen=5)\n",
    "\n",
    "fig.update_layout(yaxis_title=\"$MAE cm^{-1}$\", xaxis_title = 'Models')\n",
    "fig.update_layout(yaxis = dict(tickfont = dict(size=18)))\n",
    "fig.update_layout(xaxis = dict(tickfont = dict(size=18)))\n",
    "#fig.update_xaxes(tickmode='linear', tick0=0.0, dtick=1.0)\n",
    "fig.show()"
   ]
  },
  {
   "cell_type": "markdown",
   "id": "9d767194",
   "metadata": {},
   "source": [
    "## Models train and test RMSE"
   ]
  },
  {
   "cell_type": "code",
   "execution_count": null,
   "id": "d9cc20d0",
   "metadata": {},
   "outputs": [],
   "source": [
    "fig = go.Figure()\n",
    "fig.add_traces(go.Scatter(x=inc_icohp.index, \n",
    "                          y= inc_icohp.rmse_train_mean,\n",
    "                          marker=dict(size=10),\n",
    "                          error_y=dict(\n",
    "                            type='data', # value of error bar given in data coordinates\n",
    "                            array=inc_icohp.rmse_train_std,\n",
    "                            visible=True),\n",
    "                          mode='markers+lines',\n",
    "                          name='Train'))\n",
    "fig.add_traces(go.Scatter(x=inc_icohp.index, \n",
    "                          y= inc_icohp.rmse_test_mean,\n",
    "                          marker=dict(size=10),\n",
    "                          error_y=dict(\n",
    "                            type='data', # value of error bar given in data coordinates\n",
    "                            array=inc_icohp.rmse_test_std,\n",
    "                            visible=True),\n",
    "                          mode='markers+lines',\n",
    "                          name='Test'))\n",
    "\n",
    "fig.update_traces(marker_opacity=0.5)\n",
    "fig.update_layout(yaxis = dict(tickfont = dict(size=18)))\n",
    "fig.update_layout(xaxis = dict(tickfont = dict(size=18)))\n",
    "fig.update_yaxes(title_font=dict(size=22), color='black')\n",
    "fig.update_xaxes(title_font=dict(size=22), color='black')\n",
    "fig.update_layout(width=1000, height =1000)\n",
    "fig.update_xaxes(showline=True, linewidth=1, linecolor='black', mirror=True, showgrid=False)\n",
    "fig.update_yaxes(showline=True, linewidth=1, linecolor='black', mirror=True, showgrid=False)\n",
    "fig.update_xaxes(ticks=\"inside\", tickwidth=1, tickcolor='black', ticklen=5)\n",
    "fig.update_yaxes(ticks=\"inside\", tickwidth=1, tickcolor='black', ticklen=5)\n",
    "\n",
    "fig.update_layout(yaxis_title=\"${RMSE {cm^{-1}}}$\", xaxis_title = 'Models')\n",
    "fig.update_layout(yaxis = dict(tickfont = dict(size=18)))\n",
    "fig.update_layout(xaxis = dict(tickfont = dict(size=18)))\n",
    "#fig.update_xaxes(tickmode='linear', tick0=0.0, dtick=1.0)\n",
    "fig.show()"
   ]
  },
  {
   "cell_type": "markdown",
   "id": "2a19b3b7",
   "metadata": {},
   "source": [
    "## Models train and test R2"
   ]
  },
  {
   "cell_type": "code",
   "execution_count": null,
   "id": "c1d7d4f3",
   "metadata": {},
   "outputs": [],
   "source": [
    "fig = go.Figure()\n",
    "fig.add_traces(go.Scatter(x=inc_icohp.index, \n",
    "                          y= inc_icohp.r2_train_mean,\n",
    "                          marker=dict(size=10),\n",
    "                          error_y=dict(\n",
    "                            type='data', # value of error bar given in data coordinates\n",
    "                            array=inc_icohp.r2_train_std,\n",
    "                            visible=True),\n",
    "                          mode='markers+lines',\n",
    "                          name='Train'))\n",
    "fig.add_traces(go.Scatter(x=inc_icohp.index, \n",
    "                          y= inc_icohp.r2_test_mean,\n",
    "                          marker=dict(size=10),\n",
    "                          error_y=dict(\n",
    "                            type='data', # value of error bar given in data coordinates\n",
    "                            array=inc_icohp.r2_test_std,\n",
    "                            visible=True),\n",
    "                          mode='markers+lines',\n",
    "                          name='Test'))\n",
    "\n",
    "fig.update_traces(marker_opacity=0.5)\n",
    "fig.update_layout(yaxis = dict(tickfont = dict(size=18)))\n",
    "fig.update_layout(xaxis = dict(tickfont = dict(size=18)))\n",
    "fig.update_yaxes(title_font=dict(size=22), color='black')\n",
    "fig.update_xaxes(title_font=dict(size=22), color='black')\n",
    "fig.update_layout(width=1000, height =1000)\n",
    "fig.update_xaxes(showline=True, linewidth=1, linecolor='black', mirror=True, showgrid=False)\n",
    "fig.update_yaxes(showline=True, linewidth=1, linecolor='black', mirror=True, showgrid=False)\n",
    "fig.update_xaxes(ticks=\"inside\", tickwidth=1, tickcolor='black', ticklen=5)\n",
    "fig.update_yaxes(ticks=\"inside\", tickwidth=1, tickcolor='black', ticklen=5)\n",
    "fig.update_yaxes(autorange=\"reversed\")\n",
    "fig.update_layout(yaxis_title=\"${R^2 cm^{-1}}$\", xaxis_title = 'Models')\n",
    "fig.update_layout(yaxis = dict(tickfont = dict(size=18)))\n",
    "fig.update_layout(xaxis = dict(tickfont = dict(size=18)))\n",
    "#fig.update_xaxes(tickmode='linear', tick0=0.0, dtick=1.0)\n",
    "fig.show()"
   ]
  }
 ],
 "metadata": {
  "hide_input": false,
  "kernelspec": {
   "display_name": "Python 3 (ipykernel)",
   "language": "python",
   "name": "python3"
  },
  "language_info": {
   "codemirror_mode": {
    "name": "ipython",
    "version": 3
   },
   "file_extension": ".py",
   "mimetype": "text/x-python",
   "name": "python",
   "nbconvert_exporter": "python",
   "pygments_lexer": "ipython3",
   "version": "3.8.16"
  }
 },
 "nbformat": 4,
 "nbformat_minor": 5
}

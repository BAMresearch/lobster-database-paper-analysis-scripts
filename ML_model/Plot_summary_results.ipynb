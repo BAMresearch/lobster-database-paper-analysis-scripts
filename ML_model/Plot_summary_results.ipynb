{
 "cells": [
  {
   "cell_type": "code",
   "execution_count": null,
   "id": "2be24b8e",
   "metadata": {},
   "outputs": [],
   "source": [
    "import plotly.graph_objects as go\n",
    "import plotly.io as pio\n",
    "import pandas as pd\n",
    "from plotly.subplots import make_subplots\n",
    "pio.templates.default = \"plotly_white\""
   ]
  },
  {
   "cell_type": "code",
   "execution_count": null,
   "id": "0b545b18",
   "metadata": {},
   "outputs": [],
   "source": [
    "ex_icohp = pd.read_csv('exc_icohp/summary_results.csv', index_col='Unnamed: 0')\n",
    "inc_icohp = pd.read_csv('inc_icohp/summary_results.csv', index_col='Unnamed: 0')"
   ]
  },
  {
   "cell_type": "markdown",
   "id": "3ef21b40",
   "metadata": {},
   "source": [
    "#### Including ICOHP stats"
   ]
  },
  {
   "cell_type": "code",
   "execution_count": null,
   "id": "75f50ce2",
   "metadata": {},
   "outputs": [],
   "source": [
    "inc_icohp"
   ]
  },
  {
   "cell_type": "markdown",
   "id": "dd528528",
   "metadata": {},
   "source": [
    "#### Excluding ICOHP stats (only magpie features with sine coloumb matrix)"
   ]
  },
  {
   "cell_type": "code",
   "execution_count": null,
   "id": "8c938474",
   "metadata": {},
   "outputs": [],
   "source": [
    "ex_icohp"
   ]
  },
  {
   "cell_type": "markdown",
   "id": "1a1b8e6b",
   "metadata": {},
   "source": [
    "## Get metrics plot for models"
   ]
  },
  {
   "cell_type": "code",
   "execution_count": null,
   "id": "8751da77",
   "metadata": {},
   "outputs": [],
   "source": [
    "def get_summary_stats_plot(model_1,model_2):\n",
    "    \"\"\"\n",
    "    Function to save model performace metric plot on test set\n",
    "    \"\"\"\n",
    "    fig = make_subplots(rows=1, cols=3, shared_xaxes=False, shared_yaxes=False,\n",
    "                     horizontal_spacing=0.15, x_title='Metrics')\n",
    "    \n",
    "    \n",
    "    fig.add_trace(go.Scatter(x=[''], \n",
    "                          y= model_1.mae_test_mean,\n",
    "                          marker=dict(size=10,color='#1878b6'),\n",
    "                          error_y=dict(\n",
    "                            type='data', # value of error bar given in data coordinates\n",
    "                            array=model_1.mae_test_std,\n",
    "                            visible=True),\n",
    "                          mode='markers+lines',showlegend=False,\n",
    "                          name='1'), row=1, col=1)\n",
    "    fig.add_trace(go.Scatter(x=[''], \n",
    "                              y= model_2.mae_test_mean,\n",
    "                              marker=dict(size=10,color='#f57f1f'),\n",
    "                              error_y=dict(\n",
    "                                type='data', # value of error bar given in data coordinates\n",
    "                                array=model_2.mae_test_std,\n",
    "                                visible=True),\n",
    "                              mode='markers+lines',showlegend=False,\n",
    "                              name='2'), row=1, col=1)\n",
    "    \n",
    "    \n",
    "    fig.add_trace(go.Scatter(x=[''], \n",
    "                          y= model_1.rmse_test_mean,\n",
    "                          marker=dict(size=10,color='#1878b6'),\n",
    "                          error_y=dict(\n",
    "                            type='data', # value of error bar given in data coordinates\n",
    "                            array=model_1.rmse_test_std,\n",
    "                            visible=True),\n",
    "                          mode='markers+lines',showlegend=False,\n",
    "                          name='1'), row=1, col=2)\n",
    "    fig.add_trace(go.Scatter(x=[''], \n",
    "                              y= model_2.rmse_test_mean,\n",
    "                              marker=dict(size=10,color='#f57f1f'),\n",
    "                              error_y=dict(\n",
    "                                type='data', # value of error bar given in data coordinates\n",
    "                                array=model_2.rmse_test_std,\n",
    "                                visible=True),\n",
    "                              mode='markers+lines',showlegend=False,\n",
    "                              name='2'), row=1, col=2)\n",
    "    \n",
    "    \n",
    "    fig.add_trace(go.Scatter(x=[''], \n",
    "                          y= model_1.max_error_test_mean,\n",
    "                          marker=dict(size=10,color='#1878b6'),\n",
    "                          error_y=dict(\n",
    "                            type='data', # value of error bar given in data coordinates\n",
    "                            array=model_1.max_error_test_std,\n",
    "                            visible=True),\n",
    "                          mode='markers+lines',\n",
    "                          name='1'), row=1, col=3)\n",
    "    fig.add_trace(go.Scatter(x=[''], \n",
    "                              y= model_2.max_error_test_mean,\n",
    "                              marker=dict(size=10,color='#f57f1f'),\n",
    "                              error_y=dict(\n",
    "                                type='data', # value of error bar given in data coordinates\n",
    "                                array=model_2.max_error_test_std,\n",
    "                                visible=True),\n",
    "                              mode='markers+lines',\n",
    "                              name='2'), row=1, col=3)\n",
    "    for i in range(1, 4):\n",
    "        fig.update_yaxes(title_font=dict(size=24), color='black',row=1, col=i,tickfont = dict(size=22))\n",
    "        fig.update_xaxes(title_font=dict(size=24), color='black',row=1, col=i,tickfont = dict(size=22))\n",
    "        fig.update_xaxes(showline=True, linewidth=1, linecolor='black', mirror=True, row=1, col=i,autorange=True)\n",
    "        fig.update_yaxes(showline=True, linewidth=1, linecolor='black', mirror=True, row=1, col=i,autorange=True)\n",
    "        fig.update_xaxes(ticks=\"inside\", tickwidth=1, tickcolor='black', ticklen=5, row=1, col=i)\n",
    "        fig.update_yaxes(ticks=\"inside\", tickwidth=1, tickcolor='black', ticklen=5, row=1, col=i)\n",
    "    \n",
    "    fig.update_yaxes(title_text=\"$\\\\text{MAE } (cm^{-1})$\", row=1, col=1, title_standoff=0)\n",
    "    fig.update_yaxes(title_text=\"$\\\\text{RMSE } (cm^{-1})$\", row=1, col=2, title_standoff=0)\n",
    "    fig.update_yaxes(title_text=\"$\\\\text{Max error } (cm^{-1})$\", row=1, col=3,title_standoff=0)\n",
    "    \n",
    "    #fig.update_layout(yaxis_title=\"$\\\\text{MAE } (cm^{-1})$\", row=1, col=1)\n",
    "    #fig.update_layout(yaxis_title=\"$\\\\text{RMSE } (cm^{-1})$\", row=1, col=1)\n",
    "    #fig.update_layout(yaxis_title=\"$\\\\text{Max error } (cm^{-1})$\", row=1, col=1)\n",
    "    fig.update_layout(template='simple_white', width=1000, height=600)\n",
    "    \n",
    "    fig.write_image(\"Metrics.pdf\",format= 'pdf', width=1000, height=600)\n",
    "    fig.write_html(\"Metrics.html\",include_mathjax = 'cdn')\n",
    "    \n",
    "    return fig"
   ]
  },
  {
   "cell_type": "code",
   "execution_count": null,
   "id": "1e4a390a",
   "metadata": {},
   "outputs": [],
   "source": [
    "get_summary_stats_plot(model_1=ex_icohp, model_2=inc_icohp)"
   ]
  },
  {
   "cell_type": "code",
   "execution_count": null,
   "id": "5a72279a",
   "metadata": {},
   "outputs": [],
   "source": []
  }
 ],
 "metadata": {
  "hide_input": false,
  "kernelspec": {
   "display_name": "Python 3 (ipykernel)",
   "language": "python",
   "name": "python3"
  },
  "language_info": {
   "codemirror_mode": {
    "name": "ipython",
    "version": 3
   },
   "file_extension": ".py",
   "mimetype": "text/x-python",
   "name": "python",
   "nbconvert_exporter": "python",
   "pygments_lexer": "ipython3",
   "version": "3.8.16"
  }
 },
 "nbformat": 4,
 "nbformat_minor": 5
}

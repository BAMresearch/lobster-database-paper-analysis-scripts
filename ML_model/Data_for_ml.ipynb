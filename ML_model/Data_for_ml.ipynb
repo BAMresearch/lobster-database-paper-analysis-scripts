{
 "cells": [
  {
   "cell_type": "code",
   "execution_count": null,
   "id": "9f08ea21",
   "metadata": {},
   "outputs": [],
   "source": [
    "import pandas as pd\n",
    "import numpy as np\n",
    "from matminer.datasets.dataset_retrieval import load_dataset\n",
    "from modnet.featurizers.presets import Matminer2023Featurizer\n",
    "from modnet.preprocessing import nmi_target ,get_cross_nmi, get_features_relevance_redundancy, get_features_dyn\n",
    "import warnings\n",
    "warnings.filterwarnings('ignore')"
   ]
  },
  {
   "cell_type": "code",
   "execution_count": null,
   "id": "83ec5283",
   "metadata": {},
   "outputs": [],
   "source": [
    "df_matminer_phonon = load_dataset('matbench_phonons')"
   ]
  },
  {
   "cell_type": "code",
   "execution_count": null,
   "id": "413eeffc",
   "metadata": {},
   "outputs": [],
   "source": [
    "df_matminer_ph_dielec = load_dataset('phonon_dielectric_mp')\n",
    "df_matminer_ph_dielec.set_index('mpid',inplace=True)"
   ]
  },
  {
   "cell_type": "code",
   "execution_count": null,
   "id": "09e77f61",
   "metadata": {
    "scrolled": false
   },
   "outputs": [],
   "source": [
    "for row, col in df_matminer_ph_dielec.iterrows():\n",
    "    for row2,col2 in df_matminer_phonon.iterrows():\n",
    "        if col['structure'] == df_matminer_phonon.loc[row2,'structure']:\n",
    "            df_matminer_phonon.loc[row2, 'mpid']= row\n",
    "df = df_matminer_phonon.drop(columns=['last phdos peak'])\n",
    "df.set_index('mpid',inplace=True)"
   ]
  },
  {
   "cell_type": "code",
   "execution_count": null,
   "id": "14ca5aa3",
   "metadata": {},
   "outputs": [],
   "source": [
    "lobpy_stat= pd.read_csv('Small_basis_sum_stat.csv', sep=';', index_col='mp-ids')\n",
    "lobpy_stat.sort_index(inplace=True)"
   ]
  },
  {
   "cell_type": "code",
   "execution_count": null,
   "id": "f5a5d9ad",
   "metadata": {},
   "outputs": [],
   "source": [
    "feat = Matminer2023Featurizer()"
   ]
  },
  {
   "cell_type": "code",
   "execution_count": null,
   "id": "3ef4a8ba",
   "metadata": {},
   "outputs": [],
   "source": [
    "df_comp = feat.featurize_composition(df)"
   ]
  },
  {
   "cell_type": "code",
   "execution_count": null,
   "id": "500faa48",
   "metadata": {},
   "outputs": [],
   "source": [
    "df_comp[df_comp.columns[df_comp.isnull().any()]].isnull().sum()"
   ]
  },
  {
   "cell_type": "code",
   "execution_count": null,
   "id": "e2ccc9d6",
   "metadata": {},
   "outputs": [],
   "source": [
    "df_st = feat.featurize_structure(df)"
   ]
  },
  {
   "cell_type": "code",
   "execution_count": null,
   "id": "79c3acfc",
   "metadata": {},
   "outputs": [],
   "source": [
    "df_merge = pd.concat([df_st, df_comp], axis=1)"
   ]
  },
  {
   "cell_type": "code",
   "execution_count": null,
   "id": "f64a7dda",
   "metadata": {},
   "outputs": [],
   "source": [
    "# find columns with max null values\n",
    "df_merge[df_merge.columns[df_merge.isnull().any()]].isnull().sum()"
   ]
  },
  {
   "cell_type": "code",
   "execution_count": null,
   "id": "c99cd6cc",
   "metadata": {},
   "outputs": [],
   "source": [
    "# drop columns with maximim null values\n",
    "df_fil = df_merge.drop(columns=['GlobalSymmetryFeatures|crystal_system',\n",
    "                      'AtomicPackingEfficiency|mean simul. packing efficiency',\n",
    "                      'AtomicPackingEfficiency|mean abs simul. packing efficiency',\n",
    "                      'Miedema|Miedema_deltaH_inter',\n",
    "                      'Miedema|Miedema_deltaH_amor',\n",
    "                      'Miedema|Miedema_deltaH_ss_min',\n",
    "                      'YangSolidSolution|Yang delta'])"
   ]
  },
  {
   "cell_type": "code",
   "execution_count": null,
   "id": "86e33671",
   "metadata": {},
   "outputs": [],
   "source": [
    "df_fil.dropna(inplace=True)"
   ]
  },
  {
   "cell_type": "code",
   "execution_count": null,
   "id": "e445a137",
   "metadata": {},
   "outputs": [],
   "source": [
    "for feat in lobpy_stat.columns:\n",
    "    for row, col in df_fil.iterrows():\n",
    "        #print(row)\n",
    "        df_fil.loc[row,feat] = lobpy_stat.loc[row,feat]\n",
    "    "
   ]
  },
  {
   "cell_type": "code",
   "execution_count": null,
   "id": "186a11b9",
   "metadata": {},
   "outputs": [],
   "source": [
    "for row, col in df_fil.iterrows():\n",
    "    df_fil.loc[row,'last_phdos_peak']=df_matminer_ph_dielec.loc[row,'last phdos peak']"
   ]
  },
  {
   "cell_type": "code",
   "execution_count": null,
   "id": "41f8dfba",
   "metadata": {},
   "outputs": [],
   "source": [
    "df_fil.to_pickle('dataforml.pkl')"
   ]
  }
 ],
 "metadata": {
  "hide_input": false,
  "kernelspec": {
   "display_name": "Python 3 (ipykernel)",
   "language": "python",
   "name": "python3"
  },
  "language_info": {
   "codemirror_mode": {
    "name": "ipython",
    "version": 3
   },
   "file_extension": ".py",
   "mimetype": "text/x-python",
   "name": "python",
   "nbconvert_exporter": "python",
   "pygments_lexer": "ipython3",
   "version": "3.9.0"
  }
 },
 "nbformat": 4,
 "nbformat_minor": 5
}
